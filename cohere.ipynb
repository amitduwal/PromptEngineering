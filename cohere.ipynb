{
 "cells": [
  {
   "cell_type": "code",
   "execution_count": 1,
   "metadata": {},
   "outputs": [
    {
     "name": "stdout",
     "output_type": "stream",
     "text": [
      "Collecting cohere\n",
      "  Downloading cohere-4.51-py3-none-any.whl (52 kB)\n",
      "     -------------------------------------- 52.0/52.0 KB 535.9 kB/s eta 0:00:00\n",
      "Requirement already satisfied: aiohttp<4.0,>=3.0 in d:\\code\\promptengineering_langchain\\env\\lib\\site-packages (from cohere) (3.9.3)\n",
      "Requirement already satisfied: urllib3<3,>=1.26 in d:\\code\\promptengineering_langchain\\env\\lib\\site-packages (from cohere) (2.2.1)\n",
      "Requirement already satisfied: backoff<3.0,>=2.0 in d:\\code\\promptengineering_langchain\\env\\lib\\site-packages (from cohere) (2.2.1)\n",
      "Requirement already satisfied: importlib_metadata<7.0,>=6.0 in d:\\code\\promptengineering_langchain\\env\\lib\\site-packages (from cohere) (6.11.0)\n",
      "Collecting fastavro<2.0,>=1.8\n",
      "  Downloading fastavro-1.9.4-cp310-cp310-win_amd64.whl (497 kB)\n",
      "     -------------------------------------- 497.2/497.2 KB 2.4 MB/s eta 0:00:00\n",
      "Requirement already satisfied: requests<3.0.0,>=2.25.0 in d:\\code\\promptengineering_langchain\\env\\lib\\site-packages (from cohere) (2.31.0)\n",
      "Requirement already satisfied: async-timeout<5.0,>=4.0 in d:\\code\\promptengineering_langchain\\env\\lib\\site-packages (from aiohttp<4.0,>=3.0->cohere) (4.0.3)\n",
      "Requirement already satisfied: aiosignal>=1.1.2 in d:\\code\\promptengineering_langchain\\env\\lib\\site-packages (from aiohttp<4.0,>=3.0->cohere) (1.3.1)\n",
      "Requirement already satisfied: frozenlist>=1.1.1 in d:\\code\\promptengineering_langchain\\env\\lib\\site-packages (from aiohttp<4.0,>=3.0->cohere) (1.4.1)\n",
      "Requirement already satisfied: yarl<2.0,>=1.0 in d:\\code\\promptengineering_langchain\\env\\lib\\site-packages (from aiohttp<4.0,>=3.0->cohere) (1.9.4)\n",
      "Requirement already satisfied: attrs>=17.3.0 in d:\\code\\promptengineering_langchain\\env\\lib\\site-packages (from aiohttp<4.0,>=3.0->cohere) (23.2.0)\n",
      "Requirement already satisfied: multidict<7.0,>=4.5 in d:\\code\\promptengineering_langchain\\env\\lib\\site-packages (from aiohttp<4.0,>=3.0->cohere) (6.0.5)\n",
      "Requirement already satisfied: zipp>=0.5 in d:\\code\\promptengineering_langchain\\env\\lib\\site-packages (from importlib_metadata<7.0,>=6.0->cohere) (3.17.0)\n",
      "Requirement already satisfied: certifi>=2017.4.17 in d:\\code\\promptengineering_langchain\\env\\lib\\site-packages (from requests<3.0.0,>=2.25.0->cohere) (2024.2.2)\n",
      "Requirement already satisfied: idna<4,>=2.5 in d:\\code\\promptengineering_langchain\\env\\lib\\site-packages (from requests<3.0.0,>=2.25.0->cohere) (3.6)\n",
      "Requirement already satisfied: charset-normalizer<4,>=2 in d:\\code\\promptengineering_langchain\\env\\lib\\site-packages (from requests<3.0.0,>=2.25.0->cohere) (3.3.2)\n",
      "Installing collected packages: fastavro, cohere\n",
      "Successfully installed cohere-4.51 fastavro-1.9.4\n"
     ]
    },
    {
     "name": "stderr",
     "output_type": "stream",
     "text": [
      "WARNING: You are using pip version 22.0.4; however, version 24.0 is available.\n",
      "You should consider upgrading via the 'D:\\Code\\PromptEngineering_Langchain\\env\\Scripts\\python.exe -m pip install --upgrade pip' command.\n"
     ]
    }
   ],
   "source": [
    "!pip install cohere"
   ]
  },
  {
   "cell_type": "code",
   "execution_count": 4,
   "metadata": {},
   "outputs": [
    {
     "data": {
      "text/plain": [
       "True"
      ]
     },
     "execution_count": 4,
     "metadata": {},
     "output_type": "execute_result"
    }
   ],
   "source": [
    "import os\n",
    "from dotenv import load_dotenv\n",
    "load_dotenv()"
   ]
  },
  {
   "cell_type": "markdown",
   "metadata": {},
   "source": [
    "# Chat"
   ]
  },
  {
   "cell_type": "code",
   "execution_count": 7,
   "metadata": {},
   "outputs": [
    {
     "name": "stdout",
     "output_type": "stream",
     "text": [
      "content=\"It's me, your friendly AI-assistant chatbot, ready to assist you in any way I can! \\n\\nHow can I help you today?\"\n"
     ]
    }
   ],
   "source": [
    "from langchain_community.chat_models import ChatCohere\n",
    "from langchain_core.messages import HumanMessage\n",
    "chat = ChatCohere()\n",
    "messages = [HumanMessage(content=\"HELLO! who's there?\")]\n",
    "print(chat(messages))"
   ]
  },
  {
   "cell_type": "markdown",
   "metadata": {},
   "source": [
    "# LLM"
   ]
  },
  {
   "cell_type": "code",
   "execution_count": 8,
   "metadata": {},
   "outputs": [
    {
     "name": "stdout",
     "output_type": "stream",
     "text": [
      " Of course! Here are a few suggestions for pet names: \n",
      "\n",
      "- Sweetheart \n",
      "- Love \n",
      "- Honey\n",
      "- Dear \n",
      "- Cutie \n",
      "- Buddy \n",
      "- Pumpkin \n",
      "\n",
      "These are some relatively common pet names people use for their loved ones. If you're looking for something more unusual or unique, please let me know and I will provide some more options. \n"
     ]
    }
   ],
   "source": [
    "from langchain_community.llms import Cohere\n",
    "\n",
    "llm = Cohere(model=\"command\")\n",
    "print(llm.invoke(\"Come up with a pet name\"))"
   ]
  },
  {
   "cell_type": "markdown",
   "metadata": {},
   "source": [
    "# Embeddings"
   ]
  },
  {
   "cell_type": "code",
   "execution_count": 9,
   "metadata": {},
   "outputs": [
    {
     "name": "stdout",
     "output_type": "stream",
     "text": [
      "[[-0.072631836, 0.06921387, -0.02658081, 0.022705078, 0.027328491, 0.046905518, -0.01838684, -0.029525757, 0.0041046143, -0.028198242, 0.0496521, 0.026901245, 0.03274536, 0.01574707, -0.081726074, -0.022369385, 0.049591064, 0.06549072, -0.015083313, -0.053863525, 0.098083496, 0.034698486, -0.08557129, -0.0024662018, -0.07519531, 0.03265381, 0.006046295, -0.0060691833, 0.032196045, 0.07537842, 9.024143e-05, -0.00869751, 0.022735596, 0.06329346, 0.068481445, -0.006778717, -0.07885742, 0.049560547, -0.008811951, 0.025253296, 0.050750732, -0.05343628, 0.051361084, -0.02319336, 0.026382446, 0.088378906, 0.03567505, -0.0736084, 0.039215088, -0.020584106, -0.03112793, -0.071777344, 0.018218994, -0.01876831, 0.040863037, 0.080078125, 0.046020508, -0.030792236, -0.011779785, -0.024871826, -0.06652832, 0.04748535, -0.038116455, 0.08453369, 0.08746338, 0.059509277, -0.037628174, -0.045410156, -0.054626465, -0.0036334991, -0.035949707, -0.011070251, 0.054534912, 0.0803833, 0.052734375, 0.06689453, 0.0074310303, 0.018249512, -0.023773193, 0.03845215, -0.113220215, 0.014251709, 0.028289795, -0.03942871, 0.029525757, 0.03036499, 0.035095215, 0.031829834, -0.0015306473, 0.027252197, 0.005088806, -0.035858154, -0.113220215, 0.021606445, 0.012046814, -0.06137085, 0.0057640076, -0.06994629, 0.02532959, 0.016952515, -0.010398865, -0.0066184998, -0.020904541, -0.12030029, 0.0036029816, -0.061553955, 0.023956299, -0.07330322, 0.013053894, -0.009613037, -0.062683105, 0.00013184547, 0.12030029, 0.028167725, 0.048614502, -0.09301758, -0.020324707, 0.022369385, -0.14025879, -0.052764893, 0.07220459, 0.028198242, 0.01499939, -0.029449463, 0.004711151, -0.05947876, 0.1640625, -0.09240723, 0.019500732, -0.0031089783, 0.0032081604, -0.0049934387, -0.01676941, 0.002691269, 0.02848816, 0.013504028, -0.057800293, 0.049041748, -0.022384644, 0.05517578, -0.031982422, 0.055389404, 0.0859375, 0.019866943, -0.052978516, 0.030929565, -0.15979004, 0.068481445, -0.020080566, -0.033477783, 0.07922363, -0.020736694, -0.025680542, 0.054016113, -0.028839111, -0.016189575, 0.03564453, 0.0001078248, 0.06304932, -0.022781372, 0.06555176, 0.010093689, 0.03286743, 0.14111328, -0.008468628, -0.04849243, 0.04525757, 0.065979004, -0.012138367, -0.017044067, 0.059509277, 0.035339355, -0.017807007, -0.027267456, -0.0034656525, -0.02078247, -0.033477783, 0.05041504, -0.043518066, -0.064208984, 0.034942627, -0.009300232, -0.08148193, 0.007774353, -0.03540039, -0.008255005, -0.1060791, -0.0703125, 0.091308594, 0.10095215, -0.081970215, 0.02355957, -0.026382446, -0.0070610046, -0.051208496, -0.014961243, 0.07269287, -0.033721924, 0.017669678, -0.08972168, 0.035339355, 0.03579712, -0.07299805, -0.014144897, -0.008850098, 0.023742676, -0.05847168, -0.07873535, -0.015388489, -0.039642334, -0.028930664, 0.008926392, -0.040283203, -0.02897644, -0.013557434, -0.006088257, 0.024169922, -0.10217285, 0.014526367, 0.007381439, -0.0005607605, -0.058410645, -0.008399963, -0.08001709, 0.05065918, 0.01727295, 0.012191772, -0.016571045, 0.03717041, -0.02607727, 0.060760498, 0.057678223, -0.06585693, 0.059173584, 0.023117065, -0.034118652, -0.03189087, 0.010429382, 0.010368347, -0.011230469, -0.020980835, -0.04019165, 0.048187256, -0.019638062, -0.024414062, -0.0019989014, 0.04336548, 0.117248535, 0.00033903122, -0.0014419556, 0.013946533, -0.11541748, 0.030059814, -0.06500244, 0.05441284, 0.021759033, 0.030380249, 0.080566406, 0.02331543, -0.04586792, 0.037322998, 0.011390686, -0.01374054, 0.1459961, -0.050964355, 0.081970215, -0.061645508, 0.07067871, -0.036956787, 0.060455322, 0.051361084, -0.05831909, 0.05328369, -0.008628845, 0.054534912, -0.047332764, 0.030578613, -0.048828125, -0.018112183, 0.022979736, -0.07318115, -0.0423584, -0.094177246, -0.04071045, 0.054260254, 0.0423584, 0.075805664, -0.06365967, 0.009269714, -0.054779053, -0.007637024, -0.01876831, 0.08453369, 0.058898926, -0.07727051, 0.04360962, 0.010574341, -0.027694702, 0.024917603, -0.0463562, 0.040222168, -0.05496216, -0.048461914, 0.013710022, -0.1038208, 0.027954102, 0.031951904, -0.05618286, 0.0025730133, -0.06549072, -0.049957275, 0.01499939, -0.11090088, -0.009017944, 0.021835327, 0.03503418, 0.058746338, -0.12756348, -0.0345459, -0.04699707, -0.029830933, -0.06726074, 0.010612488, -0.024108887, 0.016464233, 0.013076782, -0.06298828, -0.0657959, -0.0025234222, -0.0625, 0.013420105, 0.05810547, -0.006362915, -0.028625488, 0.06085205, 0.12310791, 0.04751587, -0.027740479, -0.02029419, -0.02293396, 0.048858643, -0.006793976, -0.0061073303, 0.029067993, -0.0076942444, -0.00088596344, -0.007446289, 0.12756348, 0.082092285, -0.0037841797, 0.03866577, 0.040374756, 0.019104004, -0.0345459, 0.019042969, -0.038116455, 0.045410156, 0.062683105, -0.024963379, 0.085632324, 0.005897522, 0.008285522, 0.008811951, 0.026504517, 0.025558472, -0.005554199, -0.017822266, -0.112854004, -0.03768921, -0.00097227097, -0.061401367, 0.050567627, -0.010734558, 0.07220459, 0.03643799, 0.0007662773, -0.020980835, -0.04711914, -0.03488159, -0.09655762, 0.0048561096, 0.028030396, 0.04586792, -0.014915466]]\n"
     ]
    }
   ],
   "source": [
    "from langchain_community.embeddings import CohereEmbeddings\n",
    "\n",
    "embeddings = CohereEmbeddings(model=\"embed-english-light-v3.0\")\n",
    "print(embeddings.embed_documents([\"This is a test document.\"]))"
   ]
  },
  {
   "cell_type": "markdown",
   "metadata": {},
   "source": [
    "# RAG"
   ]
  },
  {
   "cell_type": "code",
   "execution_count": 11,
   "metadata": {},
   "outputs": [
    {
     "name": "stdout",
     "output_type": "stream",
     "text": [
      "[Document(page_content='Cohere is a Canadian multinational technology company focused on artificial intelligence for the enterprise, specializing in large language models. Cohere was founded in 2019 by Aidan Gomez, Ivan Zhang, and Nick Frosst, and is headquartered in Toronto and San Francisco, with offices in Palo Alto and London.\\n\\nIn 2017, a team of researchers at Google Brain, which included Aidan Gomez, published a paper called \"Attention is All You Need,\" which introduced the transformer machine learning architecture, setting state-of-the-art performance on a variety of natural language processing tasks. In 2019, Gomez and Nick Frosst, another researcher at Google Brain, founded Cohere along with Ivan Zhang, with whom Gomez had done research at FOR.ai. All of the co-founders attended University of Toronto.', metadata={'id': 'web-search_4:0', 'snippet': 'Cohere is a Canadian multinational technology company focused on artificial intelligence for the enterprise, specializing in large language models. Cohere was founded in 2019 by Aidan Gomez, Ivan Zhang, and Nick Frosst, and is headquartered in Toronto and San Francisco, with offices in Palo Alto and London.\\n\\nIn 2017, a team of researchers at Google Brain, which included Aidan Gomez, published a paper called \"Attention is All You Need,\" which introduced the transformer machine learning architecture, setting state-of-the-art performance on a variety of natural language processing tasks. In 2019, Gomez and Nick Frosst, another researcher at Google Brain, founded Cohere along with Ivan Zhang, with whom Gomez had done research at FOR.ai. All of the co-founders attended University of Toronto.', 'timestamp': '2024-02-29T05:32:35', 'title': 'Cohere - Wikipedia', 'url': 'https://en.wikipedia.org/wiki/Cohere'}), Document(page_content='What does Cohere do?\\n\\nQuickly create and integrate AI large language models with your apps\\n\\nPhoto by Joshua J. Cotten on Unsplash\\n\\nCohere is an AI company specialising in large language models (LLMs), that offers a platform made available via an API enabling developers to:\\n\\nLeverage Cohere’s pre-built LLMs to perform common tasks on text input, such as: summarising, classification, and finding the similarities in content aka. natural language processing (NLP).\\n\\nCreate their own language models, based on the legwork Cohere has already done, that can be customised based on their own training data.\\n\\n🗝️ Key Concepts — Text Output vs. Embedding\\n\\nCohere provides access to two types of language model:\\n\\n📖 ➔ 💬 Generation Language Models: This takes text as an input and then spits out some different text, depending on the task the model is designed to achieve.', metadata={'id': 'web-search_9:0', 'snippet': 'What does Cohere do?\\n\\nQuickly create and integrate AI large language models with your apps\\n\\nPhoto by Joshua J. Cotten on Unsplash\\n\\nCohere is an AI company specialising in large language models (LLMs), that offers a platform made available via an API enabling developers to:\\n\\nLeverage Cohere’s pre-built LLMs to perform common tasks on text input, such as: summarising, classification, and finding the similarities in content aka. natural language processing (NLP).\\n\\nCreate their own language models, based on the legwork Cohere has already done, that can be customised based on their own training data.\\n\\n🗝️ Key Concepts — Text Output vs. Embedding\\n\\nCohere provides access to two types of language model:\\n\\n📖 ➔ 💬 Generation Language Models: This takes text as an input and then spits out some different text, depending on the task the model is designed to achieve.', 'timestamp': '2024-02-29T09:16:57', 'title': 'What does Cohere do?. Quickly create and integrate AI large… | by Omer Mahmood | Geek Culture | Medium', 'url': 'https://medium.com/geekculture/what-does-cohere-do-cdadf6d70435'}), Document(page_content=\" Cohere specializes in large language models: AI trained to digest text from an enterprises' internal data or publicly available sources like the internet to understand how to process and respond to prompts with increasing sophistication.\\n\\nThe Cohere platform is available through API as a managed service, through platforms such as Amazon SageMaker and Google's Vertex AI. It can be used for tasks such as writing copy, moderating content, classifying data, and extracting information. It is cloud agnostic and not tied to a particular cloud service.\\n\\nCohere's generative AI technology is embedded into several Oracle products, and its chat capabilities are embedded into Salesforce products.\", metadata={'id': 'web-search_4:4', 'snippet': \" Cohere specializes in large language models: AI trained to digest text from an enterprises' internal data or publicly available sources like the internet to understand how to process and respond to prompts with increasing sophistication.\\n\\nThe Cohere platform is available through API as a managed service, through platforms such as Amazon SageMaker and Google's Vertex AI. It can be used for tasks such as writing copy, moderating content, classifying data, and extracting information. It is cloud agnostic and not tied to a particular cloud service.\\n\\nCohere's generative AI technology is embedded into several Oracle products, and its chat capabilities are embedded into Salesforce products.\", 'timestamp': '2024-02-29T05:32:35', 'title': 'Cohere - Wikipedia', 'url': 'https://en.wikipedia.org/wiki/Cohere'}), Document(page_content='Cohere For AI is a non-profit research lab that seeks to solve complex machine learning problems. We support fundamental research that explores the unknown, and are focused on creating more points of entry into machine learning research.\\n\\nCohere For AI is a non-profit research lab that seeks to solve complex machine learning problems. We support fundamental research that explores the unknown, and are focused on creating more points of entry into machine learning research.\\n\\nFundamental research lab\\n\\nWe work at the frontier of AI progress with the goal of solving cutting edge scientific problems. We see contributions to traditional conferences and publications in journals as an important part of our work, but also support efforts that go “beyond the research paper” and encourage scientific communication through different mediums.', metadata={'id': 'web-search_5:0', 'snippet': 'Cohere For AI is a non-profit research lab that seeks to solve complex machine learning problems. We support fundamental research that explores the unknown, and are focused on creating more points of entry into machine learning research.\\n\\nCohere For AI is a non-profit research lab that seeks to solve complex machine learning problems. We support fundamental research that explores the unknown, and are focused on creating more points of entry into machine learning research.\\n\\nFundamental research lab\\n\\nWe work at the frontier of AI progress with the goal of solving cutting edge scientific problems. We see contributions to traditional conferences and publications in journals as an important part of our work, but also support efforts that go “beyond the research paper” and encourage scientific communication through different mediums.', 'timestamp': '2023-11-10T15:41:10', 'title': 'Research | Cohere For AI', 'url': 'https://cohere.com/research'}), Document(page_content=' Today, Cohere is proud to reintroduce For AI as Cohere For AI, a dedicated research lab and community for exploring the unknown, together. Watch the C4AI history video here.\\n\\nDo you charge for your educational programs or community membership?\\n\\nWe do not charge for participating in any of our programs, and are committed to supporting educational outreach programs, which include compute resources and infrastructure needed to participate in machine learning research.\\n\\nare you hiring for research positions or interns?\\n\\nOur full list of positions are listed here.\\n\\nHow can I stay in touch?\\n\\nTo stay up to date on upcoming talks, sign up for our mailing list.', metadata={'id': 'web-search_5:6', 'snippet': ' Today, Cohere is proud to reintroduce For AI as Cohere For AI, a dedicated research lab and community for exploring the unknown, together. Watch the C4AI history video here.\\n\\nDo you charge for your educational programs or community membership?\\n\\nWe do not charge for participating in any of our programs, and are committed to supporting educational outreach programs, which include compute resources and infrastructure needed to participate in machine learning research.\\n\\nare you hiring for research positions or interns?\\n\\nOur full list of positions are listed here.\\n\\nHow can I stay in touch?\\n\\nTo stay up to date on upcoming talks, sign up for our mailing list.', 'timestamp': '2023-11-10T15:41:10', 'title': 'Research | Cohere For AI', 'url': 'https://cohere.com/research'}), Document(page_content=\"Cohere is a Canadian multinational technology company specializing in artificial intelligence (AI) and large language models (LLMs). Cohere was founded in 2019 by Aidan Gomez, Ivan Zhang, and Nick Frosst and is headquartered in Toronto and San Francisco with offices in Palo Alto and London.\\nThe Cohere platform is available through API as a managed service, through platforms such as Amazon SageMaker and Google's Vertex AI. It can be used for tasks such as writing copy, moderating content, classifying data, and extracting information. The company focuses on helping developers create and integrate AI LLMs with their apps. It also offers a platform with pre-built LLMs that can be used to perform common language processing tasks, such as summarising, classification, and finding the similarities in content.\\nThe company also has a dedicated research lab and community called Cohere For AI, which explores unknown machine learning problems.\", metadata={'type': 'model_response', 'citations': [{'start': 12, 'end': 53, 'text': 'Canadian multinational technology company', 'document_ids': ['web-search_4:0']}, {'start': 70, 'end': 98, 'text': 'artificial intelligence (AI)', 'document_ids': ['web-search_4:0']}, {'start': 103, 'end': 131, 'text': 'large language models (LLMs)', 'document_ids': ['web-search_4:0', 'web-search_9:0', 'web-search_4:4']}, {'start': 144, 'end': 203, 'text': 'founded in 2019 by Aidan Gomez, Ivan Zhang, and Nick Frosst', 'document_ids': ['web-search_4:0']}, {'start': 211, 'end': 253, 'text': 'headquartered in Toronto and San Francisco', 'document_ids': ['web-search_4:0']}, {'start': 259, 'end': 291, 'text': 'offices in Palo Alto and London.', 'document_ids': ['web-search_4:0']}, {'start': 333, 'end': 336, 'text': 'API', 'document_ids': ['web-search_9:0', 'web-search_4:4']}, {'start': 342, 'end': 357, 'text': 'managed service', 'document_ids': ['web-search_4:4']}, {'start': 385, 'end': 401, 'text': 'Amazon SageMaker', 'document_ids': ['web-search_4:4']}, {'start': 406, 'end': 425, 'text': \"Google's Vertex AI.\", 'document_ids': ['web-search_4:4']}, {'start': 459, 'end': 538, 'text': 'writing copy, moderating content, classifying data, and extracting information.', 'document_ids': ['web-search_4:4']}, {'start': 581, 'end': 626, 'text': 'create and integrate AI LLMs with their apps.', 'document_ids': ['web-search_9:0']}, {'start': 658, 'end': 672, 'text': 'pre-built LLMs', 'document_ids': ['web-search_9:0']}, {'start': 743, 'end': 812, 'text': 'summarising, classification, and finding the similarities in content.', 'document_ids': ['web-search_9:0']}, {'start': 846, 'end': 872, 'text': 'research lab and community', 'document_ids': ['web-search_5:0', 'web-search_5:6']}, {'start': 880, 'end': 893, 'text': 'Cohere For AI', 'document_ids': ['web-search_5:6']}, {'start': 910, 'end': 944, 'text': 'unknown machine learning problems.', 'document_ids': ['web-search_5:0', 'web-search_5:6']}], 'search_results': [{'search_query': {'text': 'What is cohere ai?', 'generation_id': '057bc439-c717-481c-a17e-127669e1bc1c'}, 'document_ids': ['web-search_4:0', 'web-search_4:4', 'web-search_5:0', 'web-search_5:6', 'web-search_9:0'], 'connector': {'id': 'web-search'}}], 'search_queries': [{'text': 'What is cohere ai?', 'generation_id': '057bc439-c717-481c-a17e-127669e1bc1c'}], 'token_count': {'prompt_tokens': 1420, 'response_tokens': 182, 'total_tokens': 1602, 'billed_tokens': 188}})]\n"
     ]
    }
   ],
   "source": [
    "from langchain_community.chat_models import ChatCohere\n",
    "from langchain.retrievers import CohereRagRetriever\n",
    "from langchain_core.documents import Document\n",
    "\n",
    "rag = CohereRagRetriever(llm=ChatCohere())\n",
    "print(rag.get_relevant_documents(\"What is cohere ai?\"))"
   ]
  },
  {
   "cell_type": "code",
   "execution_count": null,
   "metadata": {},
   "outputs": [],
   "source": []
  }
 ],
 "metadata": {
  "kernelspec": {
   "display_name": "env",
   "language": "python",
   "name": "python3"
  },
  "language_info": {
   "codemirror_mode": {
    "name": "ipython",
    "version": 3
   },
   "file_extension": ".py",
   "mimetype": "text/x-python",
   "name": "python",
   "nbconvert_exporter": "python",
   "pygments_lexer": "ipython3",
   "version": "3.10.5"
  }
 },
 "nbformat": 4,
 "nbformat_minor": 2
}
