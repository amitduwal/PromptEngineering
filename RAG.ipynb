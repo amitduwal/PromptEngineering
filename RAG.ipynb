{
 "cells": [
  {
   "cell_type": "code",
   "execution_count": 1,
   "metadata": {},
   "outputs": [
    {
     "name": "stdout",
     "output_type": "stream",
     "text": [
      "Requirement already satisfied: unstructured[md] in d:\\code\\promptengineering_langchain\\env\\lib\\site-packages (0.12.5)\n",
      "Requirement already satisfied: chromadb in d:\\code\\promptengineering_langchain\\env\\lib\\site-packages (0.4.24)\n",
      "Requirement already satisfied: beautifulsoup4 in d:\\code\\promptengineering_langchain\\env\\lib\\site-packages (from unstructured[md]) (4.12.3)\n",
      "Requirement already satisfied: rapidfuzz in d:\\code\\promptengineering_langchain\\env\\lib\\site-packages (from unstructured[md]) (3.6.1)\n",
      "Requirement already satisfied: dataclasses-json in d:\\code\\promptengineering_langchain\\env\\lib\\site-packages (from unstructured[md]) (0.6.4)\n",
      "Requirement already satisfied: python-magic in d:\\code\\promptengineering_langchain\\env\\lib\\site-packages (from unstructured[md]) (0.4.27)\n",
      "Requirement already satisfied: tabulate in d:\\code\\promptengineering_langchain\\env\\lib\\site-packages (from unstructured[md]) (0.9.0)\n",
      "Requirement already satisfied: lxml in d:\\code\\promptengineering_langchain\\env\\lib\\site-packages (from unstructured[md]) (5.1.0)\n",
      "Requirement already satisfied: emoji in d:\\code\\promptengineering_langchain\\env\\lib\\site-packages (from unstructured[md]) (2.10.1)\n",
      "Requirement already satisfied: langdetect in d:\\code\\promptengineering_langchain\\env\\lib\\site-packages (from unstructured[md]) (1.0.9)\n",
      "Requirement already satisfied: requests in d:\\code\\promptengineering_langchain\\env\\lib\\site-packages (from unstructured[md]) (2.31.0)\n",
      "Requirement already satisfied: numpy in d:\\code\\promptengineering_langchain\\env\\lib\\site-packages (from unstructured[md]) (1.26.4)\n",
      "Requirement already satisfied: backoff in d:\\code\\promptengineering_langchain\\env\\lib\\site-packages (from unstructured[md]) (2.2.1)\n",
      "Requirement already satisfied: unstructured-client>=0.15.1 in d:\\code\\promptengineering_langchain\\env\\lib\\site-packages (from unstructured[md]) (0.18.0)\n",
      "Requirement already satisfied: chardet in d:\\code\\promptengineering_langchain\\env\\lib\\site-packages (from unstructured[md]) (5.2.0)\n",
      "Requirement already satisfied: wrapt in d:\\code\\promptengineering_langchain\\env\\lib\\site-packages (from unstructured[md]) (1.16.0)\n",
      "Requirement already satisfied: typing-extensions in d:\\code\\promptengineering_langchain\\env\\lib\\site-packages (from unstructured[md]) (4.10.0)\n",
      "Requirement already satisfied: python-iso639 in d:\\code\\promptengineering_langchain\\env\\lib\\site-packages (from unstructured[md]) (2024.2.7)\n",
      "Requirement already satisfied: nltk in d:\\code\\promptengineering_langchain\\env\\lib\\site-packages (from unstructured[md]) (3.8.1)\n",
      "Requirement already satisfied: filetype in d:\\code\\promptengineering_langchain\\env\\lib\\site-packages (from unstructured[md]) (1.2.0)\n",
      "Requirement already satisfied: markdown in d:\\code\\promptengineering_langchain\\env\\lib\\site-packages (from unstructured[md]) (3.5.2)\n",
      "Requirement already satisfied: pypika>=0.48.9 in d:\\code\\promptengineering_langchain\\env\\lib\\site-packages (from chromadb) (0.48.9)\n",
      "Requirement already satisfied: tenacity>=8.2.3 in d:\\code\\promptengineering_langchain\\env\\lib\\site-packages (from chromadb) (8.2.3)\n",
      "Requirement already satisfied: importlib-resources in d:\\code\\promptengineering_langchain\\env\\lib\\site-packages (from chromadb) (6.1.2)\n",
      "Requirement already satisfied: chroma-hnswlib==0.7.3 in d:\\code\\promptengineering_langchain\\env\\lib\\site-packages (from chromadb) (0.7.3)\n",
      "Requirement already satisfied: opentelemetry-sdk>=1.2.0 in d:\\code\\promptengineering_langchain\\env\\lib\\site-packages (from chromadb) (1.23.0)\n",
      "Requirement already satisfied: kubernetes>=28.1.0 in d:\\code\\promptengineering_langchain\\env\\lib\\site-packages (from chromadb) (29.0.0)\n",
      "Requirement already satisfied: onnxruntime>=1.14.1 in d:\\code\\promptengineering_langchain\\env\\lib\\site-packages (from chromadb) (1.17.1)\n",
      "Requirement already satisfied: typer>=0.9.0 in d:\\code\\promptengineering_langchain\\env\\lib\\site-packages (from chromadb) (0.9.0)\n",
      "Requirement already satisfied: uvicorn[standard]>=0.18.3 in d:\\code\\promptengineering_langchain\\env\\lib\\site-packages (from chromadb) (0.27.1)\n",
      "Requirement already satisfied: orjson>=3.9.12 in d:\\code\\promptengineering_langchain\\env\\lib\\site-packages (from chromadb) (3.9.15)\n",
      "Requirement already satisfied: overrides>=7.3.1 in d:\\code\\promptengineering_langchain\\env\\lib\\site-packages (from chromadb) (7.7.0)\n",
      "Requirement already satisfied: mmh3>=4.0.1 in d:\\code\\promptengineering_langchain\\env\\lib\\site-packages (from chromadb) (4.1.0)\n",
      "Requirement already satisfied: build>=1.0.3 in d:\\code\\promptengineering_langchain\\env\\lib\\site-packages (from chromadb) (1.0.3)\n",
      "Requirement already satisfied: opentelemetry-instrumentation-fastapi>=0.41b0 in d:\\code\\promptengineering_langchain\\env\\lib\\site-packages (from chromadb) (0.44b0)\n",
      "Requirement already satisfied: pydantic>=1.9 in d:\\code\\promptengineering_langchain\\env\\lib\\site-packages (from chromadb) (1.10.11)\n",
      "Requirement already satisfied: opentelemetry-exporter-otlp-proto-grpc>=1.2.0 in d:\\code\\promptengineering_langchain\\env\\lib\\site-packages (from chromadb) (1.23.0)\n",
      "Requirement already satisfied: PyYAML>=6.0.0 in d:\\code\\promptengineering_langchain\\env\\lib\\site-packages (from chromadb) (6.0.1)\n",
      "Requirement already satisfied: pulsar-client>=3.1.0 in d:\\code\\promptengineering_langchain\\env\\lib\\site-packages (from chromadb) (3.4.0)\n",
      "Requirement already satisfied: tqdm>=4.65.0 in d:\\code\\promptengineering_langchain\\env\\lib\\site-packages (from chromadb) (4.66.2)\n",
      "Requirement already satisfied: bcrypt>=4.0.1 in d:\\code\\promptengineering_langchain\\env\\lib\\site-packages (from chromadb) (4.1.2)\n",
      "Requirement already satisfied: opentelemetry-api>=1.2.0 in d:\\code\\promptengineering_langchain\\env\\lib\\site-packages (from chromadb) (1.23.0)\n",
      "Requirement already satisfied: fastapi>=0.95.2 in d:\\code\\promptengineering_langchain\\env\\lib\\site-packages (from chromadb) (0.110.0)\n",
      "Requirement already satisfied: posthog>=2.4.0 in d:\\code\\promptengineering_langchain\\env\\lib\\site-packages (from chromadb) (3.4.2)\n",
      "Requirement already satisfied: tokenizers>=0.13.2 in d:\\code\\promptengineering_langchain\\env\\lib\\site-packages (from chromadb) (0.15.2)\n",
      "Requirement already satisfied: grpcio>=1.58.0 in d:\\code\\promptengineering_langchain\\env\\lib\\site-packages (from chromadb) (1.62.0)\n",
      "Requirement already satisfied: packaging>=19.0 in d:\\code\\promptengineering_langchain\\env\\lib\\site-packages (from build>=1.0.3->chromadb) (23.2)\n",
      "Requirement already satisfied: pyproject_hooks in d:\\code\\promptengineering_langchain\\env\\lib\\site-packages (from build>=1.0.3->chromadb) (1.0.0)\n",
      "Requirement already satisfied: tomli>=1.1.0 in d:\\code\\promptengineering_langchain\\env\\lib\\site-packages (from build>=1.0.3->chromadb) (2.0.1)\n",
      "Requirement already satisfied: colorama in d:\\code\\promptengineering_langchain\\env\\lib\\site-packages (from build>=1.0.3->chromadb) (0.4.6)\n",
      "Requirement already satisfied: starlette<0.37.0,>=0.36.3 in d:\\code\\promptengineering_langchain\\env\\lib\\site-packages (from fastapi>=0.95.2->chromadb) (0.36.3)\n",
      "Requirement already satisfied: oauthlib>=3.2.2 in d:\\code\\promptengineering_langchain\\env\\lib\\site-packages (from kubernetes>=28.1.0->chromadb) (3.2.2)\n",
      "Requirement already satisfied: requests-oauthlib in d:\\code\\promptengineering_langchain\\env\\lib\\site-packages (from kubernetes>=28.1.0->chromadb) (1.3.1)\n",
      "Requirement already satisfied: google-auth>=1.0.1 in d:\\code\\promptengineering_langchain\\env\\lib\\site-packages (from kubernetes>=28.1.0->chromadb) (2.28.1)\n",
      "Requirement already satisfied: python-dateutil>=2.5.3 in d:\\code\\promptengineering_langchain\\env\\lib\\site-packages (from kubernetes>=28.1.0->chromadb) (2.8.2)\n",
      "Requirement already satisfied: certifi>=14.05.14 in d:\\code\\promptengineering_langchain\\env\\lib\\site-packages (from kubernetes>=28.1.0->chromadb) (2024.2.2)\n",
      "Requirement already satisfied: websocket-client!=0.40.0,!=0.41.*,!=0.42.*,>=0.32.0 in d:\\code\\promptengineering_langchain\\env\\lib\\site-packages (from kubernetes>=28.1.0->chromadb) (1.7.0)\n",
      "Requirement already satisfied: six>=1.9.0 in d:\\code\\promptengineering_langchain\\env\\lib\\site-packages (from kubernetes>=28.1.0->chromadb) (1.16.0)\n",
      "Requirement already satisfied: urllib3>=1.24.2 in d:\\code\\promptengineering_langchain\\env\\lib\\site-packages (from kubernetes>=28.1.0->chromadb) (2.2.1)\n",
      "Requirement already satisfied: protobuf in d:\\code\\promptengineering_langchain\\env\\lib\\site-packages (from onnxruntime>=1.14.1->chromadb) (4.25.3)\n",
      "Requirement already satisfied: coloredlogs in d:\\code\\promptengineering_langchain\\env\\lib\\site-packages (from onnxruntime>=1.14.1->chromadb) (15.0.1)\n",
      "Requirement already satisfied: sympy in d:\\code\\promptengineering_langchain\\env\\lib\\site-packages (from onnxruntime>=1.14.1->chromadb) (1.12)\n",
      "Requirement already satisfied: flatbuffers in d:\\code\\promptengineering_langchain\\env\\lib\\site-packages (from onnxruntime>=1.14.1->chromadb) (23.5.26)\n",
      "Requirement already satisfied: deprecated>=1.2.6 in d:\\code\\promptengineering_langchain\\env\\lib\\site-packages (from opentelemetry-api>=1.2.0->chromadb) (1.2.14)\n",
      "Requirement already satisfied: importlib-metadata<7.0,>=6.0 in d:\\code\\promptengineering_langchain\\env\\lib\\site-packages (from opentelemetry-api>=1.2.0->chromadb) (6.11.0)\n",
      "Requirement already satisfied: opentelemetry-proto==1.23.0 in d:\\code\\promptengineering_langchain\\env\\lib\\site-packages (from opentelemetry-exporter-otlp-proto-grpc>=1.2.0->chromadb) (1.23.0)\n",
      "Requirement already satisfied: opentelemetry-exporter-otlp-proto-common==1.23.0 in d:\\code\\promptengineering_langchain\\env\\lib\\site-packages (from opentelemetry-exporter-otlp-proto-grpc>=1.2.0->chromadb) (1.23.0)\n",
      "Requirement already satisfied: googleapis-common-protos~=1.52 in d:\\code\\promptengineering_langchain\\env\\lib\\site-packages (from opentelemetry-exporter-otlp-proto-grpc>=1.2.0->chromadb) (1.62.0)\n",
      "Requirement already satisfied: opentelemetry-instrumentation==0.44b0 in d:\\code\\promptengineering_langchain\\env\\lib\\site-packages (from opentelemetry-instrumentation-fastapi>=0.41b0->chromadb) (0.44b0)\n",
      "Requirement already satisfied: opentelemetry-util-http==0.44b0 in d:\\code\\promptengineering_langchain\\env\\lib\\site-packages (from opentelemetry-instrumentation-fastapi>=0.41b0->chromadb) (0.44b0)\n",
      "Requirement already satisfied: opentelemetry-instrumentation-asgi==0.44b0 in d:\\code\\promptengineering_langchain\\env\\lib\\site-packages (from opentelemetry-instrumentation-fastapi>=0.41b0->chromadb) (0.44b0)\n",
      "Requirement already satisfied: opentelemetry-semantic-conventions==0.44b0 in d:\\code\\promptengineering_langchain\\env\\lib\\site-packages (from opentelemetry-instrumentation-fastapi>=0.41b0->chromadb) (0.44b0)\n",
      "Requirement already satisfied: setuptools>=16.0 in d:\\code\\promptengineering_langchain\\env\\lib\\site-packages (from opentelemetry-instrumentation==0.44b0->opentelemetry-instrumentation-fastapi>=0.41b0->chromadb) (58.1.0)\n",
      "Requirement already satisfied: asgiref~=3.0 in d:\\code\\promptengineering_langchain\\env\\lib\\site-packages (from opentelemetry-instrumentation-asgi==0.44b0->opentelemetry-instrumentation-fastapi>=0.41b0->chromadb) (3.7.2)\n",
      "Requirement already satisfied: monotonic>=1.5 in d:\\code\\promptengineering_langchain\\env\\lib\\site-packages (from posthog>=2.4.0->chromadb) (1.6)\n",
      "Requirement already satisfied: charset-normalizer<4,>=2 in d:\\code\\promptengineering_langchain\\env\\lib\\site-packages (from requests->unstructured[md]) (3.3.2)\n",
      "Requirement already satisfied: idna<4,>=2.5 in d:\\code\\promptengineering_langchain\\env\\lib\\site-packages (from requests->unstructured[md]) (3.6)\n",
      "Requirement already satisfied: huggingface_hub<1.0,>=0.16.4 in d:\\code\\promptengineering_langchain\\env\\lib\\site-packages (from tokenizers>=0.13.2->chromadb) (0.21.1)\n",
      "Requirement already satisfied: click<9.0.0,>=7.1.1 in d:\\code\\promptengineering_langchain\\env\\lib\\site-packages (from typer>=0.9.0->chromadb) (8.1.7)\n",
      "Requirement already satisfied: dataclasses-json-speakeasy>=0.5.11 in d:\\code\\promptengineering_langchain\\env\\lib\\site-packages (from unstructured-client>=0.15.1->unstructured[md]) (0.5.11)\n",
      "Requirement already satisfied: jsonpath-python>=1.0.6 in d:\\code\\promptengineering_langchain\\env\\lib\\site-packages (from unstructured-client>=0.15.1->unstructured[md]) (1.0.6)\n",
      "Requirement already satisfied: mypy-extensions>=1.0.0 in d:\\code\\promptengineering_langchain\\env\\lib\\site-packages (from unstructured-client>=0.15.1->unstructured[md]) (1.0.0)\n",
      "Requirement already satisfied: marshmallow>=3.19.0 in d:\\code\\promptengineering_langchain\\env\\lib\\site-packages (from unstructured-client>=0.15.1->unstructured[md]) (3.21.0)\n",
      "Requirement already satisfied: typing-inspect>=0.9.0 in d:\\code\\promptengineering_langchain\\env\\lib\\site-packages (from unstructured-client>=0.15.1->unstructured[md]) (0.9.0)\n",
      "Requirement already satisfied: h11>=0.8 in d:\\code\\promptengineering_langchain\\env\\lib\\site-packages (from uvicorn[standard]>=0.18.3->chromadb) (0.14.0)\n",
      "Requirement already satisfied: websockets>=10.4 in d:\\code\\promptengineering_langchain\\env\\lib\\site-packages (from uvicorn[standard]>=0.18.3->chromadb) (12.0)\n",
      "Requirement already satisfied: python-dotenv>=0.13 in d:\\code\\promptengineering_langchain\\env\\lib\\site-packages (from uvicorn[standard]>=0.18.3->chromadb) (1.0.1)\n",
      "Requirement already satisfied: watchfiles>=0.13 in d:\\code\\promptengineering_langchain\\env\\lib\\site-packages (from uvicorn[standard]>=0.18.3->chromadb) (0.21.0)\n",
      "Requirement already satisfied: httptools>=0.5.0 in d:\\code\\promptengineering_langchain\\env\\lib\\site-packages (from uvicorn[standard]>=0.18.3->chromadb) (0.6.1)\n",
      "Requirement already satisfied: soupsieve>1.2 in d:\\code\\promptengineering_langchain\\env\\lib\\site-packages (from beautifulsoup4->unstructured[md]) (2.5)\n",
      "Requirement already satisfied: regex>=2021.8.3 in d:\\code\\promptengineering_langchain\\env\\lib\\site-packages (from nltk->unstructured[md]) (2023.12.25)\n",
      "Requirement already satisfied: joblib in d:\\code\\promptengineering_langchain\\env\\lib\\site-packages (from nltk->unstructured[md]) (1.3.2)\n",
      "Requirement already satisfied: pyasn1-modules>=0.2.1 in d:\\code\\promptengineering_langchain\\env\\lib\\site-packages (from google-auth>=1.0.1->kubernetes>=28.1.0->chromadb) (0.3.0)\n",
      "Requirement already satisfied: cachetools<6.0,>=2.0.0 in d:\\code\\promptengineering_langchain\\env\\lib\\site-packages (from google-auth>=1.0.1->kubernetes>=28.1.0->chromadb) (5.3.3)\n",
      "Requirement already satisfied: rsa<5,>=3.1.4 in d:\\code\\promptengineering_langchain\\env\\lib\\site-packages (from google-auth>=1.0.1->kubernetes>=28.1.0->chromadb) (4.9)\n",
      "Requirement already satisfied: filelock in d:\\code\\promptengineering_langchain\\env\\lib\\site-packages (from huggingface_hub<1.0,>=0.16.4->tokenizers>=0.13.2->chromadb) (3.13.1)\n",
      "Requirement already satisfied: fsspec>=2023.5.0 in d:\\code\\promptengineering_langchain\\env\\lib\\site-packages (from huggingface_hub<1.0,>=0.16.4->tokenizers>=0.13.2->chromadb) (2024.2.0)\n",
      "Requirement already satisfied: zipp>=0.5 in d:\\code\\promptengineering_langchain\\env\\lib\\site-packages (from importlib-metadata<7.0,>=6.0->opentelemetry-api>=1.2.0->chromadb) (3.17.0)\n",
      "Requirement already satisfied: anyio<5,>=3.4.0 in d:\\code\\promptengineering_langchain\\env\\lib\\site-packages (from starlette<0.37.0,>=0.36.3->fastapi>=0.95.2->chromadb) (4.3.0)\n",
      "Requirement already satisfied: humanfriendly>=9.1 in d:\\code\\promptengineering_langchain\\env\\lib\\site-packages (from coloredlogs->onnxruntime>=1.14.1->chromadb) (10.0)\n",
      "Requirement already satisfied: mpmath>=0.19 in d:\\code\\promptengineering_langchain\\env\\lib\\site-packages (from sympy->onnxruntime>=1.14.1->chromadb) (1.3.0)\n",
      "Requirement already satisfied: sniffio>=1.1 in d:\\code\\promptengineering_langchain\\env\\lib\\site-packages (from anyio<5,>=3.4.0->starlette<0.37.0,>=0.36.3->fastapi>=0.95.2->chromadb) (1.3.1)\n",
      "Requirement already satisfied: exceptiongroup>=1.0.2 in d:\\code\\promptengineering_langchain\\env\\lib\\site-packages (from anyio<5,>=3.4.0->starlette<0.37.0,>=0.36.3->fastapi>=0.95.2->chromadb) (1.2.0)\n",
      "Requirement already satisfied: pyreadline3 in d:\\code\\promptengineering_langchain\\env\\lib\\site-packages (from humanfriendly>=9.1->coloredlogs->onnxruntime>=1.14.1->chromadb) (3.4.1)\n",
      "Requirement already satisfied: pyasn1<0.6.0,>=0.4.6 in d:\\code\\promptengineering_langchain\\env\\lib\\site-packages (from pyasn1-modules>=0.2.1->google-auth>=1.0.1->kubernetes>=28.1.0->chromadb) (0.5.1)\n"
     ]
    },
    {
     "name": "stderr",
     "output_type": "stream",
     "text": [
      "WARNING: You are using pip version 22.0.4; however, version 24.0 is available.\n",
      "You should consider upgrading via the 'D:\\Code\\PromptEngineering_Langchain\\env\\Scripts\\python.exe -m pip install --upgrade pip' command.\n"
     ]
    }
   ],
   "source": [
    "!pip install \"unstructured[md]\" chromadb"
   ]
  },
  {
   "cell_type": "code",
   "execution_count": 2,
   "metadata": {},
   "outputs": [],
   "source": [
    "from langchain.document_loaders import DirectoryLoader\n",
    "\n",
    "DATA_PATH = \"data/\"\n",
    "\n",
    "def load_documents():\n",
    "    loader = DirectoryLoader(DATA_PATH, glob=\"*.md\")\n",
    "    documents = loader.load()\n",
    "    return documents"
   ]
  },
  {
   "cell_type": "code",
   "execution_count": 3,
   "metadata": {},
   "outputs": [],
   "source": [
    "from langchain.text_splitter import RecursiveCharacterTextSplitter\n",
    "from langchain.schema import Document\n",
    "\n",
    "def split_text(documents: list[Document]):\n",
    "    \"\"\"Split the text of the documents into chunks.\n",
    "    Args:\n",
    "        documents (list[Document]): The documents to split.\n",
    "    Returns:\n",
    "        chunks: The chunks of the documents.\n",
    "    \"\"\"\n",
    "    text_splitter = RecursiveCharacterTextSplitter(\n",
    "        chunk_size=300,\n",
    "        chunk_overlap=100,\n",
    "        length_function=len,\n",
    "        add_start_index=True,\n",
    "    )\n",
    "    chunks = text_splitter.split_documents(documents)\n",
    "    print(f\"Split {len(documents)} documents into {len(chunks)} chunks.\")\n",
    "\n",
    "    document = chunks[10]\n",
    "    print(document.page_content)\n",
    "    print(document.metadata)\n",
    "\n",
    "    return chunks"
   ]
  },
  {
   "cell_type": "code",
   "execution_count": 4,
   "metadata": {},
   "outputs": [],
   "source": [
    "from langchain_openai import OpenAIEmbeddings\n",
    "from langchain.vectorstores.chroma import Chroma\n",
    "import os\n",
    "import shutil\n",
    "\n",
    "CHROMA_PATH = \"chroma\"\n",
    "\n",
    "def save_to_chroma(chunks: list[Document]):\n",
    "    # Clear out the database first.\n",
    "    if os.path.exists(CHROMA_PATH):\n",
    "        shutil.rmtree(CHROMA_PATH)\n",
    "\n",
    "    # Create a new DB from the documents.\n",
    "    db = Chroma.from_documents(\n",
    "        chunks, OpenAIEmbeddings(), persist_directory=CHROMA_PATH\n",
    "    )\n",
    "    db.persist()\n",
    "    print(f\"Saved {len(chunks)} chunks to {CHROMA_PATH}.\")"
   ]
  },
  {
   "cell_type": "code",
   "execution_count": 5,
   "metadata": {},
   "outputs": [
    {
     "name": "stdout",
     "output_type": "stream",
     "text": [
      "Split 1 documents into 801 chunks.\n",
      "So she was considering in her own mind (as well as she could, for the\n",
      "hot day made her feel very sleepy and stupid), whether the pleasure of\n",
      "making a daisy-chain would be worth the trouble of getting up and\n",
      "picking the daisies, when suddenly a White Rabbit with pink eyes ran\n",
      "close by her.\n",
      "{'source': 'data\\\\alice_in_wonderland.md', 'start_index': 1654}\n",
      "Saved 801 chunks to chroma.\n"
     ]
    }
   ],
   "source": [
    "def generate_data_store():\n",
    "    documents = load_documents()\n",
    "    chunks = split_text(documents)\n",
    "    save_to_chroma(chunks)\n",
    "\n",
    "generate_data_store()"
   ]
  },
  {
   "cell_type": "markdown",
   "metadata": {},
   "source": [
    "# Embeddings"
   ]
  },
  {
   "cell_type": "code",
   "execution_count": 8,
   "metadata": {},
   "outputs": [
    {
     "name": "stdout",
     "output_type": "stream",
     "text": [
      "Vector for 'apple': [0.007754413596091041, -0.02315402458734137, -0.007501849152375844, -0.0277684467952731, -0.004570052602434246, 0.012996834081654635, -0.02202089555963392, -0.00840971638961714, 0.018935513203263084, -0.02962513711227445, -0.0029403288619125724, 0.02016420524263257, -0.004402814072396592, 0.009099149362349734, -0.02169324509419347, 0.0020512335957638896, 0.030690003918923712, 0.00010303096742397732, 0.0020119837034118983, -0.025461234759984637, -0.02107889814318613, -0.008163977609214203, 0.021324636923589064, -0.012484878599589383, 0.0011339806058069373, 0.005088833747811759, 0.01014353731641702, 8.900553287787876e-05, 0.015959347047824, -0.012949051644501018, 0.020587422445025448, -0.016109520953919706, -0.018457688831726927, 0.005460854750072293, -0.019290468184597773, -0.009194714236656966, -0.012054836665206842, -0.00872371552843307, -0.005669049588290005, -0.006122983206910652, 0.010512145487021424, 0.007658848721783809, -0.006385787076916837, 0.0007205768660323168, -0.02326324078827312, 0.011208404123066281, -0.021761505452606463, -0.0004919035244786031, -0.012757921895886556, 0.01541326231787485, -0.005553006792723394, -0.0021945809072247365, -0.014894481172497339, -0.005242420485563594, -0.00285841601272181, 0.002774796747702983, -0.019413337574799242, 0.006440395643044012, -0.010805665773255379, 0.004928421346747662, 0.005331159230897266, 0.015099263179058919, -0.027836707153686097, 0.005406246183945119, -0.00918788764202211, 0.003727033357611114, -0.013624832359286496, -0.008546237106443129, 0.01313335572980322, 0.01564534790900807, 0.03358425652668008, 0.013140181393115482, 0.014048048630356776, 0.006471112990594379, 0.004355031635242976, 0.001407023320027487, -0.03396651602390901, -0.006201482991614635, -0.003105860976122162, 0.01819829872469947, 0.007563283847476578, -0.02648514572411514, 0.00967936520282798, 0.024915150030035485, 0.024928801356660008, 0.009747625561240975, -0.021515766672203528, 0.009972885489061936, -0.007733935209170363, 0.0030495459941669223, 0.01187053257990464, 0.005454028621098734, 0.007672500979730928, 0.016464475935254394, -0.026867405221344065, 0.016723867904927046, -0.012703312864098083, 0.026348623144643958, 0.0047168132112125226, -0.037270334507433736, 0.0010204972011517753, 0.00604448342220667, -0.02875140005423965, -0.010396101760132217, -0.02028707463283404, 0.001969320746573127, 0.01251218311548362, -0.0035973380712667363, 0.015454219091716206, -0.019904815135605113, 0.006542786646324803, 0.009310757032223577, 0.021952635201220927, -0.051714294892966556, -0.016409868766111117, -0.017406473351702187, -0.009604278249780128, 0.002167276624161149, -0.02284002544852544, -0.03563207845494109, 0.034184948425772514, 0.025898103289002036, 0.03836250396733204, -0.008805628144793184, 0.013344963399677062, -0.003529077247192443, -0.017679516647999362, -0.009583800328520749, -0.0008831225779198056, -0.013938831498102428, 0.047017959137352114, 0.008218586641002676, 0.01948159979585743, 0.016505433640418347, -0.017911604101777775, 0.019645425028577655, -0.022171069465729623, 0.015536131708076318, -0.005542767366432406, -0.033556950148140655, 0.010327841401719221, 0.014744307266401633, -0.012300575445609778, 0.007044502702099066, -0.011249360896907635, 0.023727413833184757, 0.02360454444298329, 0.022758111900842728, -0.005337985359870825, 0.007126415318459179, 0.010669145056429389, -0.024191586878096392, -0.003887445991505859, 0.0055632457533530836, 0.0018054950481916027, 0.00571683202544362, -0.017092474212886257, -0.001984679420348311, -0.003921576403543006, 0.0037543376406747016, -0.006413091127149775, 0.008648628575385217, -0.006764633742489632, -0.00883293266068742, 0.0016536150755138066, 0.024423672469229614, 0.011774967705597408, 0.01357022425882062, -0.01616412998570818, -0.009597451655145271, -0.016341608407698122, 0.004071749843977412, -0.010600883766693797, 0.01271013945873294, 0.008846584918634538, 0.015918391205305242, 0.004491552817730264, 0.012785226411780792, -0.00656667786490161, 0.0007879842493619282, 0.0012175999872410894, -0.004686095863662155, 0.02307211103965866, 0.01926316553134873, -0.01679212826334004, 0.014949089272963215, 0.004542748552201308, -0.010573580182122158, 0.005542767366432406, -0.019413337574799242, 0.03208252119101342, 0.02050550889734274, -0.003955706582749503, -0.014307438737384234, -0.6845727130240659, -0.020628378287544206, 0.005856766505248337, -0.0002310197506287967, 0.034103036740735, 0.031836782410610484, 0.022252983013412334, -0.0012167466629117321, -0.018484993347621163, -0.010307363480459842, 0.0018822883006521956, 0.0033174691116573027, 0.008962627714201149, 0.009713495382034478, -6.863398612135785e-05, -0.02240315691950804, 0.01642352009273564, -0.02405506429862521, -0.01036197158092572, 0.024778627450564302, -0.012102619102360457, -0.014512221675268413, -0.008826106066052563, -0.02967974428141773, 0.0037850549882250686, 0.019440642090693478, 0.01994577097812387, -0.014007091856515422, -0.01979559893467336, 0.021816114484394935, -0.008327803773257026, -0.000676207376950156, 0.027345229592880223, 0.005914788368692941, 0.03735224619247125, 0.007235632450713529, -0.04420561821463326, 0.013870571139689432, 0.009706668787399621, 0.03413034311927443, -0.020710291835226918, -0.020532813413236976, 0.013604354438027117, -0.006495004209171187, -0.015932042531929765, -0.0010025787872191695, 0.013126529135168364, 0.005593963100903451, -0.0007278295407552299, -0.025461234759984637, 0.03489486211373228, -2.7130955197165647e-05, 0.010805665773255379, 0.008437020905511376, 0.021816114484394935, 0.008757845707639567, 0.023126720071447133, -0.008819280402740302, -0.0015145339200384469, 0.016546389482937105, -0.022471417277921034, -0.003413034218795183, -0.03484025308194381, -0.02532471404315865, -0.020573769255755735, 0.010798840109943118, -0.009310757032223577, 0.007795369904271097, 0.005396007223315429, -0.01957716467016466, 0.021502115345579005, 0.022389503730238323, -0.023317849820061597, -0.007078632881305563, -0.0032799258679640257, 0.017092474212886257, 0.023549935411194815, -0.0014565122894244925, -0.027208708876054234, 0.004890877870223737, -0.0020956029684307256, -0.009317583626858434, 0.005102486005758877, -0.0277684467952731, 0.0314818255666306, 0.005546180663749835, -0.024123324657038203, -0.011242534302272778, 0.014034396372409658, -0.02383663003411651, 0.034239557457560986, 0.02400045712948193, 0.002774796747702983, -0.019249512342079014, -0.014525873001892934, -0.005385767797024441, -0.032437478034993306, -0.019440642090693478, -0.0023362218028575186, -0.01985020610381664, 0.016655607546514052, -0.005590549803586022, 0.009413148501165666, 0.0068090033479871175, 0.02391854358179922, 0.013392745836830679, -0.01930412137386749, 0.014621437876200166, 0.03675155056808844, -0.020491857570718218, -0.007768065854038159, -0.012471227272964862, 0.008553063701077987, -0.008628150654125838, 0.02569332035111786, -0.0310449589002584, 0.010669145056429389, -0.007645196463836691, 0.02107889814318613, -0.032874346564010705, 0.02542027891746588, -0.004433531419946958, 0.012000228564740966, 0.0029778723384364988, -0.010689622977688768, 0.018266559083112463, -0.004361857764216535, -0.030935740836681453, -0.0034249798280835872, -0.006013766074656302, 0.00797284786059974, 0.005279963962087519, 0.007269762629920026, -0.005996700985053054, 0.02395949942431798, 0.00023379283642047395, 0.009727147639981597, -0.020628378287544206, 0.012109444765672718, -0.024942454545929724, -0.016901344464271793, 0.008143499687954824, 0.0004044445619121487, -0.0005832021845926848, 0.0013404691446119083, -0.012150401539514074, -0.028369140557010727, -0.017024213854473263, -0.01089440498425035, 0.005262898872484271, -0.009010410151354764, 0.005556419624379525, -0.0019488424760677743, 0.021638636062404994, 0.02267619835316002, -0.015659001098277787, 0.0027372535040097058, -0.023495326379406344, 0.0010384156150843812, 0.016368911060947164, 0.010088929215951144, 0.02847835675794248, -0.008914845277047534, 0.0042424016713324955, 0.015099263179058919, -0.03582320820355555, 0.006744155355568955, 0.0017816038296147947, -0.017706821163893598, -0.029352093815977278, 0.013365441320936441, -0.0168330841058588, -0.00819128212510844, 0.008109369508748326, -0.014621437876200166, 0.00398642393029987, -0.014880828914550219, 0.007385805891147935, 0.010157189574364138, 0.0025751342214562463, 0.005249246614537153, 0.009037714667249001, 0.002276493756415499, 0.0018276797345250207, 0.0308265246357497, 0.02028707463283404, 0.0016049793140308335, 0.047864389816847486, -0.020123249400113813, 0.0008276608038785982, -0.013665789133127852, 0.019918466462229636, 0.005426724105204497, 0.0017141964462851834, -0.013925179240155308, -0.008293672662727932, -0.005942092418925879, 0.01348148504782565, -0.0009232257363934918, 0.011440490645522099, 0.023986803940212215, -0.002750905529126175, 0.011160621685912664, -0.0021758091689627734, 0.013740875154853107, -0.03276512850043376, 0.0039318153641726954, -0.005392593925998, 0.01111966491207131, 0.034676425986578385, -0.0022901460143626173, -0.028587574821519426, -0.006522308259404125, -0.020532813413236976, 0.012327879030181418, 0.034294166489349465, 0.002356700189778196, 0.01215722813414893, 0.0009232257363934918, -0.008116195172060588, 0.0016109521186750356, -0.0049011168308534265, 0.00031719887222037116, -0.0034642297204355785, -0.007501849152375844, 0.0033413603302341103, 0.010102581473898262, 0.0332292996827002, -0.0034010886095067793, -0.026116537553510736, -0.0034591100072900844, -0.004972790952245148, -0.009433626422425045, -0.012525835373430739, 0.004160488589311084, 0.014853524398655983, 0.004102467191527779, -0.010867100468356114, 0.02232124337182533, -0.0008366200108449011, -0.014007091856515422, 0.014498569417321293, 0.026812796189555593, -0.0021007224487455704, 0.00765202259281025, -0.013256225120004688, 0.045816571613876866, 0.00817762986716132, -0.0040615104176864245, -0.0023788847596962893, -0.0033993819608480647, -0.025802538414694806, -0.0308265246357497, 0.010559927924175039, -0.0008814160456764159, -0.024532888670161367, 0.0234680237261573, 0.02243045957275708, 0.02286732810177448, 0.040683367329245025, 0.003343066978892825, -0.0036007511357535158, -0.013167485909009718, 0.005986462024423364, -0.020560117929131212, -0.00023912570602532032, -0.001360947415117261, -0.013699919312334349, 0.002738959919837771, 0.0043584444668991066, 0.01348148504782565, -0.00023144638368964414, 0.024983410388448483, -0.0101298850584699, 0.006768046574145763, 0.0009957526582456103, -0.01778873471157631, 0.005041051310658143, 0.0054028328866276894, -0.012273270929715542, -0.021679593767568946, -0.02737253410877446, 0.008908019613735272, 0.003826011296405125, -0.006979654709680903, 0.00883293266068742, -0.029024443350536826, -0.006133222167540342, -0.005737310412364298, 0.014826220814084343, -0.003416447283281963, 0.021597680219886235, 0.008402889794982282, 0.020123249400113813, 0.020532813413236976, -0.013809136444588699, 0.03137261122834405, -0.010826144625837355, 0.005146855611256362, -0.006221961378535312, 6.916727017145937e-05, 0.00474070442978933, -0.019563511480894948, -0.004071749843977412, 0.039454673427230344, -0.004826030343466872, -0.005839701415645089, -0.02445097698512385, 0.0127169651220452, -0.002264548147127095, -0.025570452823561584, 0.0047714217773396975, -0.01598665156371824, -0.018225603240593708, -0.0028481770520921205, 0.016682910199763094, -0.005413072312918678, -0.017106127402155974, 0.040819888046071014, -0.002493221372265484, -0.012539487631377856, -0.017802386038200828, -0.014375700027119825, 0.008006978039806238, 0.06482034331290776, 0.025611408666080342, -0.010962665342663344, 0.023577239927089055, -0.005532528405802717, 0.027864011669580333, -0.011795445626856787, -0.006798763921696129, 0.02918826858325705, -0.0009428506825694875, -0.0013507082216569224, -0.008867062839893917, 0.014689699165935757, -0.01864881858034139, 0.023891239065904984, 0.01133809917658001, -0.002320863129082335, -0.020246118790315282, -0.00550522388990848, -0.00810254291411347, 0.000532433345116968, -0.014676046907988639, 0.010737405414842385, 0.005515463316199468, 0.01718804094983868, 0.0056042020615331405, 0.018635167253716868, 0.029160964067362814, -0.005099073174102747, -0.024560193186055602, -0.006163939515090709, -0.006211721952244324, 0.015249437085154624, -0.006474525822250509, -0.0018208537219667861, 0.022362199214344087, 0.017324561666664674, 0.015973000237093717, 0.005901136110745823, 0.005471093710701982, 0.012252793008456163, 0.010498493229074306, -0.003750924576187922, -0.02618479791192373, 0.007454066715222228, -0.011447316308834358, -0.014621437876200166, 0.032628607783607766, -0.0011792033028031306, -0.013734049491540846, 0.024546541859431083, 0.016286999375909647, 0.0051229643926795545, -0.005307268012320458, -0.0003186920733814217, 0.02692201425313254, -0.0072970671458142625, 0.0031792412805113, 0.01036197158092572, -0.025843494257213565, -0.005546180663749835, -0.020041335852431102, 0.0031741218001964553, 0.014471264901427057, -0.0012218662596419016, -0.005672462885607433, -0.011365403692474246, -0.01855325370603416, -0.006665655570864972, -0.011460968566781478, -0.0008417395493674082, -0.02648514572411514, -0.011290316739426393, 0.007727109545858103, 0.03309277896587421, 0.008129847430007706, 0.020874117067947142, 0.005812397365412151, 0.006989894135971891, 0.03494947114552075, -0.008123020835372849, -0.014880828914550219, 0.004675856903032466, -0.014334743253278472, -0.023031155197139903, 0.018990122235051556, -0.0018618101465621673, -0.013167485909009718, 0.011802272221491645, 0.008710063270485952, 0.01388422339763655, -0.006082026898730596, 0.029488614532803267, 0.0043584444668991066, -0.01215722813414893, -0.0006642617676617522, 0.017925255428402297, 0.011911489353745995, -0.019345077216386248, -0.011829576737385881, 0.00785680506503313, -0.010478015307814927, -0.002610971049321458, -0.007911413165499006, 0.014553177517787171, 0.014594134291628525, 0.019809250261297883, 0.012539487631377856, -0.025174540137062943, 0.0036314682504732334, 0.027672880058320675, -0.004399401240740461, 0.014921785688391575, -0.01101044777981696, 0.01215722813414893, 0.013850092287107457, -0.008648628575385217, -0.0073448495829678785, -0.005286790091061079, -0.015918391205305242, -0.021024290974042847, -0.05004873246193448, 0.014266482894865476, 0.021160811690868836, -0.014089005404198131, 0.0204782043814485, -0.004976203783901278, -0.00788410864960477, -0.02081950803615867, 0.012321053366869157, -0.008764671370951828, -0.002691177482684155, -0.001305485524660729, -0.013843266623795196, -0.03363886555846856, -0.027044881780688815, -0.016464475935254394, 0.02099698645814861, 0.0009129866593484777, -0.01744743105686614, -0.020423597212305224, 0.01825290589384275, 0.008245890225574317, -0.02502436623096724, -0.028669486506556943, -0.04909308371886217, 0.011617968136189443, 0.0032253173018368508, 0.003679250920457498, 0.029570528080485978, -0.015331349701514736, 0.017474735572760376, -0.006819242308616807, 0.014293787410759713, -0.02640323217643243, -0.022348547887719568, -0.028369140557010727, 0.00035410229728961715, 0.03847172203090899, 0.018239254567218227, 0.020423597212305224, 0.014116308988769772, 0.0168330841058588, -0.0005029959258529746, 0.004426705290973399, -0.008669106496644596, 0.0030034699728413716, 0.012136749281566954, -0.01841673298920817, 0.013761354007435082, 0.014484917159374175, 0.015891086689411006, 0.0026382753323850455, 0.012969529565760397, -0.004054684754374163, 0.012689660606150965, 0.00410588002318391, -0.0022287113192618834, -0.027891314322829375, -0.005419898441892237, -0.004348205506269417, -0.009379018321959169, -0.019973075494018108, 0.010041146778797527, 0.009447278680372163, -0.024300803079028148, 0.019099338435983312, 0.009112801620296854, 0.0017355279247045687, -0.029434007363659986, 0.024997061715073002, -0.009795407998394592, 0.021270029754445783, 0.011495098745987975, 0.005146855611256362, -0.02685375203207435, -0.006696372918415339, 0.008914845277047534, -0.007515501410322962, 0.015058306405217565, -0.007153719368692117, 0.007774891983011718, -0.014416655869638584, -0.0074813707654551665, 0.00592502732932263, 0.041174844890050896, -0.025638713181974578, -0.02233489469844985, 0.00679535109004, -0.04180284316768276, -0.0054745070080194115, -0.006532547220033815, -0.009597451655145271, -0.01576821729920954, 0.0011954151844923468, 0.013474658453190791, 0.0001684119091981834, 0.0003472762265237203, -0.005628093280109948, -0.017392822025077668, 0.006406264998176216, 0.020123249400113813, 0.02989817854592643, 0.002522232303987786, 0.035167903547384256, 0.021611331546510758, -0.0034949470679859454, -0.01952255563837619, 0.002238950512722222, -0.009522365633420016, -0.011679402831290178, 0.026635317767565652, 0.014908133430444457, 0.012409792577864127, -0.007126415318459179, -0.002788449005650101, 0.004542748552201308, -0.010047972442109789, -0.009317583626858434, 0.03503138283055827, 0.017775081522306592, 0.016314303891803883, -0.028014183713030844, -0.031236088648872864, -0.019631771839307942, 0.02692201425313254, -0.0048601605226733695, -0.002774796747702983, -0.01519482805336615, -0.03852633106269746, -0.011235708638960517, 0.0263076673021252, -0.012102619102360457, 0.01948159979585743, 0.004122945112787158, -0.014007091856515422, 0.015181175795419033, -0.011624794730824301, -0.024915150030035485, 0.0007640930307851203, -0.0025017541498977575, 0.027413489951293217, -0.02427349856313391, 0.018321168114900938, -0.0012542900230203338, 0.005334572528214694, -0.006341417471419352, -0.007849978470398273, 0.0045802920287252346, 0.03167295531524507, -0.027782098121897622, -0.0009240790025151868, 0.0027338404395229263, 0.015031002820645924, 0.0103483193229786, -0.012184531718720571, -0.022389503730238323, -0.009181061978709848, -0.002807220511081415, -0.027877662996204856, 0.010041146778797527, 0.007836326212451153, -0.021010637784773134, -0.011242534302272778, 0.008232237967627197, -0.006300461163239296, -0.006198070159958505, 0.002764557554242644, 0.013624832359286496, -0.0007798783085173201, -0.013365441320936441, 0.016969606685329982, -0.0014283547984468726, 0.003220197821522006, 0.02707218629658305, -0.012170879460773451, -0.010553101329540182, 0.023727413833184757, -0.020764899004370195, 0.000718870333788927, 0.008041108219012735, 0.002276493756415499, -0.023904890392529507, 0.010184494090258374, -0.0037748157947647297, -0.0037748157947647297, 0.0202597701169398, -0.01948159979585743, -0.012041184407259724, -0.0042287494133853775, 0.0074745446364816075, 0.016286999375909647, 0.0025205256553290714, 0.006140048296513901, 0.01324257286205757, -0.00861449839617872, -0.002208233165171855, -0.012744269637939438, -0.03008930829454089, -9.177861866955603e-05, -0.012546313294690118, -0.002208233165171855, 0.020710291835226918, -0.003259447713873997, -0.002568308092482687, -0.0038635547729290514, 0.0073448495829678785, 0.013809136444588699, -0.024382716626710856, -0.033748083622045504, -0.02131098559696454, 0.020669334130062965, -0.014621437876200166, 0.00039356549162011665, -0.020464553054823982, -0.0020324618575019264, -0.022212027170893576, 0.003628055418817103, -0.0009326116055244734, 0.0003577286346510737, 0.0026997100274857794, 0.014553177517787171, 0.013440528273984294, 0.02391854358179922, -0.008976279972148267, 0.002165570208333084, -0.01369309271769949, -0.021324636923589064, -0.021706896420817988, -0.0059693969348201155, 0.005020573389398764, 0.01793890675502682, 0.019590815996789183, -0.02180246129512522, -0.028614877474768468, -0.008075238398219232, -0.039809630271210227, -0.03260130140506834, -0.005576898011300202, 0.013119703471856103, -0.0007862777171185384, 0.006174178941381696, 0.009993364341643912, 0.005419898441892237, 0.006382373779599409, 0.016723867904927046, -0.04761865103644455, -0.0008933617131724821, 0.004894291167541165, -0.020874117067947142, 0.022635242510641262, -0.02307211103965866, -0.020519162086612454, -0.02320863175648465, 0.0008942149210865146, 0.008218586641002676, 0.0011297143334061252, 0.011106013585446788, 0.0005635772384166891, -0.003295284541739209, -0.008846584918634538, 0.022198373981623862, 0.006529134388377684, -5.89814967931989e-05, 0.00938584398527143, -0.018621514064447155, -0.00957014807057363, 0.0031758282160245207, -0.0006774873052365296, -0.02391854358179922, 0.006293635034265736, 0.009037714667249001, 0.008218586641002676, 0.008020630297753356, 0.0012107738582675302, -0.005078594787182069, 0.00967936520282798, -0.020123249400113813, -0.005986462024423364, -0.011447316308834358, -0.01874438345464862, 0.014184570278505363, -0.02462845540711379, -0.018061776145228286, -0.01239614031991701, 0.01036197158092572, -0.02435541211081662, -0.01025275444867137, 0.027003925938170057, -0.007904587502186745, -0.014471264901427057, -0.010416580612714192, 0.02223932982414262, -0.034785644050155336, -0.00806841273490697, -0.0027236012460625874, -0.02305845971303414, -0.02405506429862521, 0.03822598325050605, 0.0031143937537544356, -0.008225412304314937, -0.00765202259281025, 0.014689699165935757, 0.009665712944880863, -0.004017141277850237, -0.004187793105205321, 0.01326305078331695, -0.02228028752930657, -0.013344963399677062, 0.008430194310876517, -0.018676123096235626, -0.02382297870749199, 0.0038089462068018765, 0.011454142903469217, -0.0023925370176434077, -0.0043652705958726655, 0.20784013469347798, -0.007092285139252682, 0.016641954357244335, 0.039809630271210227, -0.0006015472606899692, -0.0008788563055189935, 0.015440566833769086, 0.01326305078331695, -0.003894271887648769, 0.004983029912874837, -0.015112915437006038, 0.011624794730824301, -0.015208480311313268, 0.0065803296571874306, 0.010928535163456847, -0.007460892844195787, -0.034922164766981324, -0.008791975886846064, -0.01638256425021688, -0.006235613636482431, 0.02364550028550205, -0.011556533441088708, -0.011556533441088708, -0.011481446488040857, 0.028997138834642586, 0.0029846984674100577, -0.029106355035574343, 0.009877320614754704, 0.018580558221928396, 0.01025275444867137, -0.00012062942838882098, -0.004191205936861451, -0.003948880453775944, -0.002059766140565514, -0.0081981077884207, -0.00022526024796310287, -0.007631544205889572, 0.02435541211081662, 0.027631924215801917, 0.027031230454064293, -0.0015742619664804666, -0.00113483381372097, -0.007815848291191774, -0.0034727622652372028, -0.02812340177660779, 0.014211873863077002, -0.008355107357828667, -0.007317545067073642, 0.02307211103965866, 0.021679593767568946, -0.04800091425896386, -0.0037440984472143627, 0.0252154959795817, 0.024956105872554243, 0.001295246447615715, 0.0071946761425334725, 0.0026809382892238167, 0.012839834512246668, -0.0022491894733519114, -0.002196287555883451, -0.007529153202608782, 0.01890820868736885, 0.0011715239659155388, 0.019072035782734267, -0.024218889531345437, -0.004409640201370151, -0.034294166489349465, 0.005781680017861783, -0.009324409290170695, -0.008730541191745331, 0.003846489450495153, -0.0206966386459572, -0.007535979331582341, 0.0002933076245397322, -0.030007396609503377, -0.04084719442461045, 0.023973152613587696, 0.026157493396029494, 0.014553177517787171, 0.022444112762026798, -0.006867024745770423, 0.009242496673810581, -0.006068374640783477, -0.0022747873405874336, -0.006000114282370483, -0.016628303030619816, 0.032492083341491396, -0.00550522388990848, -0.005764614928258535, -0.0038737937335587406, -0.005696354104184241, -0.015235784827207506, 0.0043789228538197835, -0.026143842069404972, 0.005894309981772264, 0.017556647257797892, -0.015754565972585018, 0.019672729544471895, -0.01036197158092572, -0.0007862777171185384, -0.004310662029745491, -0.018020820302709527, 0.01776143019568207, -0.010293711222512724, -0.008375586210410641, 0.02425984723650939, 0.002938622446084507, 0.009454104343684424, 0.0057407232440204285, 0.006976241878024773, -0.012751095301251698, -0.011413186129627861, 0.012580443473896615, -0.011344925771214867, 0.03372077724350607, 0.009802233661706853, -0.002803807446594635, -0.029352093815977278, 0.017911604101777775, -0.0009957526582456103, 0.00765202259281025, -0.018662469906965913, 0.0019642012662582824, 0.017338212993289193, -0.014512221675268413, -0.02109255133245584, -0.020928726099735617, 0.00021630104099679994, 0.01647812912452411, -0.028451052242048244, -0.0035563815302560304, -0.004669030774058907, 0.0042833579795125525, 0.0035768596843460585, 0.008867062839893917, 0.0025273517843026304, 0.004682683032006025, -0.017802386038200828, -0.0016655606848022106, -0.009290279110964198, 0.0012167466629117321, 0.013925179240155308, 0.020642031476813923, 0.0073516757119414375, 0.003436925437371991, -0.002672405744422192, 0.00274578604881133, -0.0001866503052023827, -0.023249589461648602, -0.021338290112858777, -0.01878533929716738, 0.00027837561292922726, -0.018935513203263084, -0.006665655570864972, 0.04213049363312321, -0.017502040088654615, -0.03415764577252347, -0.02750905482560045, -0.010921709500144585, 0.013665789133127852, -0.022689851542429734, -0.014676046907988639, 0.02305845971303414, -0.011815924479438763, -0.04147519270224231, -0.007372153633200817, -0.17911602984190658, 0.027686533247590392, -0.006948937362130536, 0.0007487343570099368, 0.01800716897608501, 0.0038225982319183456, 0.016805779589964563, 0.00959062599183301, -0.006392613205890396, 0.0019659076820863477, 0.021420201797896294, 0.0034027950253348446, -0.02891522528695988, -0.011078709069552552, 0.024164282362202156, -0.01142683838757498, -0.004720226042868653, 0.015959347047824, 0.025256453684745654, 0.011030926632398935, 0.016505433640418347, -0.010020667926215551, 0.014211873863077002, -0.01995942416739359, 0.010061624700056906, 0.02352263089530058, -0.02574792938290633, 0.0014403004077352764, -0.011938793869640231, -0.016532738156312583, -0.01412996124671689, -0.015426914575821968, 0.011133317170018428, 0.011467795161416335, 0.012942225981188759, -0.007645196463836691, -0.014034396372409658, -0.01240296598322927, 0.001543544735345424, 0.023631848958877526, 0.021584028893261716, 0.01957716467016466, 0.007699805029963866, 0.004590530989354924, 0.006300461163239296, 0.02010959807348929, 0.01989116380898059, -0.019386034921550197, 0.01197974971215899, -0.01939968624817472, 0.019631771839307942, -0.013734049491540846, -0.006740742523912825, 0.027959576543887563, 0.0004251360761883474, 0.009536017891367134, -0.0155224794501292, -0.0033993819608480647, -0.020751247677745676, -0.0064438084747001426, -0.012553139889324974, -0.010785187851996, 0.020246118790315282, -0.018880904171474613, -0.007372153633200817, -0.016928648980166033, -0.013727223828228585, -0.00810254291411347, -0.03292895187050879, 0.016723867904927046, -0.012129923618254695, -0.011413186129627861, 0.031918694095648, -0.02409602200378916, 0.0003276512803477246, -0.0007372153516785492, -0.018170994208805233, 0.02626671145960644, 0.007672500979730928, -0.0020392879864754854, -0.005692940806866813, 0.021119855848350078, -0.017597604962961845, -0.00048251771355528394, -0.005696354104184241, 0.012150401539514074, -0.00668613395778565, 0.004433531419946958, -0.02738618543539898, -0.03030774255904959, 0.01772047249051812, -0.01922220782618478, -0.00398642393029987, -0.021638636062404994, 0.021543071188097764, 0.03669694153629996, 0.011877359174539498, 0.0044198791619998404, -0.0028481770520921205, 0.003802120077828317, -0.0019590815531127883, -0.0021502115345579005, -0.029980092093609138, 0.015727261456690782, 0.03579590182501612, -0.0029027856182192954, -0.006061548511809918, 0.019809250261297883, 0.018812643813061615, -0.002387417304497914, -0.0022799068209022784, 0.020655682803438442, 0.030990349868469925, 0.02896983431874835, -0.007515501410322962, 0.0017730712848131704, 0.011454142903469217, -0.025461234759984637, 0.005675875717263564, -0.011918315017058255, 0.02490149684076577, 0.0008464324839328989, 0.01995942416739359, 0.01466239465004152, -0.005140029482282803, -0.011071882474917694, -0.09982442349021697, -0.04412370652959574, 0.009754451224553236, 0.013549745406238644, 0.015358653286086377, 0.024983410388448483, -0.004972790952245148, 0.023099415555552897, -0.012362010140710512, 0.03874476346456097, 0.002783329292504607, -0.021338290112858777, -0.0007679326992289162, 0.007897760907551888, 0.011549707777776448, -0.00045222702816959554, -0.02790496751209909, -0.011495098745987975, -0.022485068604545556, 0.01359070218008, -0.013775006265382202, -0.01691499765354151, -0.010478015307814927, -0.01918125198366602, 0.00022184722713207002, 0.0009402908842044028, -0.035222512579172735, 0.028887920771065643, 0.036587727198013405, 0.007256110837634206, 0.030362351590838065, -0.021611331546510758, 0.02121542072265731, -0.038144071565468535, 0.0021399723410975616, 0.00808889065616635, -0.018703427612129862, 0.006307287292212855, 0.020027684525806583, -0.02853296578973095, -0.0012457574782187093, 0.0002438186260388955, 0.0155224794501292, -0.029980092093609138, 0.010812492367890237, -0.0220072442330094, 0.00042684257932790604, 0.0011749370304023185, 0.01187053257990464, -0.01326305078331695, -0.01295587730781328, 0.01896281771915732, -0.0021246136673223784, -0.014798916298190107, 0.00701037205723127, -0.020710291835226918, -0.014116308988769772, 0.005846527544618648, -0.018676123096235626, 0.004344792674613286, 0.006177591773037827, -0.019604467323413706, -0.0004338819811761422, 0.013413224689412655, 0.022389503730238323, 0.0018908209618691445, -0.014744307266401633, -0.001906179635644328, 0.004836269304096562, -0.018484993347621163, -0.001023910265638555, -0.012389313725282151, -0.02670357998862384, 0.04614422207931732, -0.021010637784773134, -0.0008195548048263278, -0.01970003406036613, -0.020177858431902288, 0.013822788702535817, -0.03284704018547128, -0.00429701023745967, -0.030362351590838065, 0.0013455887413420776, -0.00821176004636782, 0.012300575445609778, -0.0051741596614893, -0.003870380669071961, 0.00788410864960477, 0.005597375932559581, -0.03470373236511782, 0.033311215093028104, 0.002203113452026361, 0.025939059131520795, -0.012000228564740966, -0.025147235621168707, -0.002134852860782717, -0.011351751434527128, -0.0018942339099405994, 0.031918694095648, -0.01735186618255891, -0.0036007511357535158, -0.0041400106680517055, -0.08049299760045525, 0.021051595489937083, -0.0025802539346017404, -0.004877225612276618, 0.014266482894865476, 0.0036758378559707187, 0.01598665156371824, -0.036778856946627865, -0.006392613205890396, -0.004143423499707835, -0.022075504591422393, 0.010703275235635887, -0.005768027759914665, -0.010075276958004024, -0.002151917950385966, -0.024942454545929724, 0.01952255563837619, 0.005498398226596219, 0.030580785855346765, 0.01602760926888219, 0.012860312433506048, 0.011372229355786507, 0.019454295279963195, -0.001950549008311164, -0.013106051213908985, 0.007624718542577312, -0.016655607546514052, 0.0027184817657477426, 0.0019642012662582824, -0.020560117929131212, 0.00810254291411347, -0.006396026037546527, -0.01434839551122559, 0.0427038828789666, -0.00024147217330806571, -0.008061587071594711, -0.004597357118328483, 0.0010674264303913584, -0.0047236393401860815, 0.0065871557861609895, -0.006621286431028785, -0.017215343603087727, 0.017775081522306592, -0.018020820302709527, -0.010853448210408994, -0.011986576306793848, -0.011017274374451817, 0.01165209831539594, 0.016327955218428405, -0.013119703471856103, 0.016013956079612476, 0.025898103289002036, -0.016546389482937105, -0.017829690554095067, -0.017911604101777775, -0.05471776183900949, 0.02409602200378916, -0.0019437229957529295, -0.005976222598132377, -0.016314303891803883, -0.0012926867074582926, 0.03317469065091173, 0.015618044324436432, -0.007269762629920026, 0.008157151945901941, -0.008518933521871488, -0.016560042672206822, -0.015331349701514736, 0.032437478034993306, -0.01985020610381664, 0.0010128178642641837, -0.021556724377367477, 0.016723867904927046, -0.015372305544033495, -0.002996644076698462, -0.0014095830601849094, -0.004836269304096562, -0.003498359899642076, -0.008218586641002676, 0.025283756337994696, 0.013017312002914014, -0.004692921992635715, -0.03402112505569748, 0.017256301308251676, 0.0168330841058588, 0.017310908477394957, -0.024997061715073002, -0.008061587071594711, 0.013426876016037176, 0.012341531288128536, 0.014853524398655983, 0.017160736433944446, 0.006344830303075482, -0.001135687138050327, 0.013740875154853107, 0.008512106927236631, -0.009556495812626513, -0.014321090995331352, 0.010600883766693797, 0.02413697784630792, 0.01833481944152546, -0.01306509444006763, -0.014321090995331352, -0.011522403261882211, -0.0018123211771651616, 0.011918315017058255, 0.004023967406823797, -0.020546464739861495, -0.011884184837851757, 0.021993592906384876, 0.021952635201220927, 0.0056042020615331405, -0.005525702276829157, 0.022812720932631203, -0.02121542072265731, 0.01754299593117337, -0.005897722813428393, -0.008437020905511376, -0.0155224794501292, 0.03519520992592369, 0.052506116540673456, 0.007795369904271097, 0.015331349701514736, -0.012805704333040171, 0.02103794230066737, 0.013781831928694461, 0.005378941668050882, -0.024287151752403625, 0.01868977442286015, -0.008477976748030134, 0.00799332578185912, -0.018020820302709527, -0.014689699165935757, -0.014252830636918358, -0.020805856709534148, -0.0005029959258529746, 0.014375700027119825, 0.02068298731933268, -0.01961812051268342, 0.07235632264449009, -0.007495023023402284, -0.004051271457056735, 0.0025700147411414015, 0.006375547650625849, 0.020983333268878895, 0.006559851735928051, 0.0168330841058588, -0.019235861015454495, -0.00992510305190832, 0.012976356160395256, 0.015003698304751689, 0.011904662759111137, -0.017816039227470545, -0.009419974164477927, -0.0035734468526899283, -0.023235936272378886, 0.008894367355788154, -0.022512373120439792, 0.005894309981772264, 0.025038019420236955, 0.024464628311748372, 0.00872371552843307, -0.005945505716243308, -0.027741142279378864, -0.010662318461794532, 0.011030926632398935, -0.006744155355568955, -0.004624661168561421, -0.04128406295362785, 0.019549860154270425, -0.006129809335884211, -0.05329794191367074, -0.019153947467771784, 0.018457688831726927, -0.01660099851472558, -0.011372229355786507, 0.0028601226613805247, 0.027700184574214914, -0.0013592408828738713, -0.024382716626710856, 0.02383663003411651, -0.021229072049281834, -0.017201692276463204, 0.021898028032077646, -0.012232314155874186, -0.013768179670747343, -0.01580917500437349, 0.006286808905292177]\n",
      "Vector length: 1536\n",
      "Comparing (apple, orange): {'score': 0.13546988317435993}\n"
     ]
    }
   ],
   "source": [
    "from langchain.evaluation import load_evaluator\n",
    "\n",
    "def embedding_evaluation():\n",
    "    # Get embedding for a word.\n",
    "    embedding_function = OpenAIEmbeddings()\n",
    "    vector = embedding_function.embed_query(\"apple\")\n",
    "    print(f\"Vector for 'apple': {vector}\")\n",
    "    print(f\"Vector length: {len(vector)}\")\n",
    "\n",
    "    # Compare vector of two words\n",
    "    evaluator = load_evaluator(\"pairwise_embedding_distance\")\n",
    "    words = (\"apple\", \"orange\")\n",
    "    x = evaluator.evaluate_string_pairs(prediction=words[0], prediction_b=words[1])\n",
    "    print(f\"Comparing ({words[0]}, {words[1]}): {x}\")\n",
    "\n",
    "embedding_evaluation()\n",
    "\n"
   ]
  },
  {
   "cell_type": "code",
   "execution_count": null,
   "metadata": {},
   "outputs": [],
   "source": []
  }
 ],
 "metadata": {
  "kernelspec": {
   "display_name": "env",
   "language": "python",
   "name": "python3"
  },
  "language_info": {
   "codemirror_mode": {
    "name": "ipython",
    "version": 3
   },
   "file_extension": ".py",
   "mimetype": "text/x-python",
   "name": "python",
   "nbconvert_exporter": "python",
   "pygments_lexer": "ipython3",
   "version": "3.10.5"
  }
 },
 "nbformat": 4,
 "nbformat_minor": 2
}
